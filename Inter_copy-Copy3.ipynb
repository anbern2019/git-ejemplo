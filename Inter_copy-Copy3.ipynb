{
 "cells": [
  {
   "cell_type": "code",
   "execution_count": 1,
   "metadata": {
    "collapsed": true
   },
   "outputs": [],
   "source": [
    "import re\n",
    "import os, sys\n",
    "import numpy as np\n",
    "import pandas as pd\n",
    "import matplotlib as mpl\n",
    "import matplotlib.pyplot as plt\n",
    "from matplotlib.pyplot import *\n",
    "from io import StringIO\n",
    "# change the font size and tick pad\n",
    "plt.rc('mathtext', fontset='stixsans')\n",
    "\n",
    "plt.rcParams['xtick.major.pad'] = 4\n",
    "plt.rcParams['ytick.major.pad'] = 4\n",
    "\n",
    "plt.rcParams.update({'font.size' : 12})\n",
    "font = {'fontsize'   : 15}\n",
    "font1 = {'fontsize'   : 12}"
   ]
  },
  {
   "cell_type": "code",
   "execution_count": 2,
   "metadata": {
    "collapsed": true
   },
   "outputs": [],
   "source": [
    "%matplotlib inline"
   ]
  },
  {
   "cell_type": "code",
   "execution_count": 7,
   "metadata": {
    "collapsed": false
   },
   "outputs": [],
   "source": [
    "#$ pip install Flask\n",
    "#$ python hello.py\n",
    "# * Running on http://localhost:5000/"
   ]
  },
  {
   "cell_type": "code",
   "execution_count": null,
   "metadata": {
    "collapsed": false
   },
   "outputs": [],
   "source": [
    "#print( ’------------------’)\n",
    "C = -20\n",
    "dC = 5\n",
    "while C <= 40:\n",
    "    F = (9.0/5)*C + 32\n",
    "    print(C, F)\n",
    "#C = C + dC\n",
    "#print(’------------------’)"
   ]
  },
  {
   "cell_type": "code",
   "execution_count": null,
   "metadata": {
    "collapsed": true
   },
   "outputs": [],
   "source": []
  }
 ],
 "metadata": {
  "anaconda-cloud": {},
  "kernelspec": {
   "display_name": "Python [default]",
   "language": "python",
   "name": "python3"
  },
  "language_info": {
   "codemirror_mode": {
    "name": "ipython",
    "version": 3
   },
   "file_extension": ".py",
   "mimetype": "text/x-python",
   "name": "python",
   "nbconvert_exporter": "python",
   "pygments_lexer": "ipython3",
   "version": "3.5.2"
  }
 },
 "nbformat": 4,
 "nbformat_minor": 1
}
